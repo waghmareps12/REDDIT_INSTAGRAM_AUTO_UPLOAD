{
 "cells": [
  {
   "cell_type": "code",
   "execution_count": 4,
   "metadata": {},
   "outputs": [],
   "source": [
    "import praw\n",
    "import instabot\n",
    "from PIL import Image\n",
    "import requests\n",
    "from io import BytesIO"
   ]
  },
  {
   "cell_type": "code",
   "execution_count": 7,
   "metadata": {},
   "outputs": [],
   "source": [
    "from dotenv import load_dotenv\n",
    "import os\n",
    "# Load environment variables from .env file\n",
    "load_dotenv(r\"D:\\COURSES\\REDDIT_API_INSTAGRAM\\REDDIT_INSTAGRAM_AUTO_UPLOAD-1\\CRED.env\") \n",
    "\n",
    "# Get credentials \n",
    "REDDIT_CLIENT_ID = os.getenv(\"REDDIT_CLIENT_ID\")\n",
    "REDDIT_CLIENT_SECRET = os.getenv(\"REDDIT_CLIENT_SECRET\")\n",
    "REDDIT_USER_AGENT = os.getenv(\"REDDIT_USER_AGENT\")\n",
    "\n",
    "INSTA_USERNAME = os.getenv(\"INSTA_USERNAME\") \n",
    "INSTA_PASSWORD = os.getenv(\"INSTA_PASSWORD\")"
   ]
  },
  {
   "cell_type": "code",
   "execution_count": 8,
   "metadata": {},
   "outputs": [],
   "source": [
    "reddit = praw.Reddit(client_id=REDDIT_CLIENT_ID, \n",
    "                     client_secret=REDDIT_CLIENT_SECRET,\n",
    "                     user_agent=REDDIT_USER_AGENT)"
   ]
  },
  {
   "cell_type": "code",
   "execution_count": 4,
   "metadata": {},
   "outputs": [
    {
     "name": "stderr",
     "output_type": "stream",
     "text": [
      "2024-01-30 20:43:24,053 - INFO - Instabot version: 0.117.0 Started\n",
      "2024-01-30 20:43:24,055 - INFO - Not yet logged in starting: PRE-LOGIN FLOW!\n",
      "2024-01-30 20:43:24,531 - ERROR - Request returns 429 error!\n",
      "2024-01-30 20:43:24,532 - WARNING - That means 'too many requests'. I'll go to sleep for 5 minutes.\n",
      "2024-01-30 20:48:25,021 - ERROR - Request returns 429 error!\n",
      "2024-01-30 20:48:25,030 - WARNING - That means 'too many requests'. I'll go to sleep for 10 minutes.\n"
     ]
    }
   ],
   "source": [
    "bot = instabot.Bot()\n",
    "bot.login(username = INSTA_USERNAME, \n",
    "          password = INSTA_PASSWORD)"
   ]
  },
  {
   "cell_type": "code",
   "execution_count": 9,
   "metadata": {},
   "outputs": [
    {
     "name": "stdout",
     "output_type": "stream",
     "text": [
      "Images uploaded!\n"
     ]
    }
   ],
   "source": [
    "# Select subreddit \n",
    "subreddit = reddit.subreddit('pics')\n",
    "# Download top images /\n",
    "for submission in subreddit.hot(limit=5):\n",
    "    url = submission.url\n",
    "    # Download image\n",
    "    response = requests.get(url)\n",
    "\n",
    "    # Check if image \n",
    "    if response.headers['Content-Type'].startswith('image/'):\n",
    "        img = Image.open(BytesIO(response.content))\n",
    "        # print(img) \n",
    "        img.show() # Display image \n",
    "        img.save('image.jpg') # Save image file\n",
    "    else:\n",
    "        print(\"Not an image\")\n",
    "    # img = Image.open(BytesIO(response.content))\n",
    "    # img = Image.open(BytesIO(response.content))\n",
    "\n",
    "#   Print image  \n",
    "       \n",
    "    # Upload to Instagram \n",
    "    # bot.upload_photo(img, caption=submission.title) \n",
    "\n",
    "print(\"Images uploaded!\")"
   ]
  },
  {
   "cell_type": "code",
   "execution_count": null,
   "metadata": {},
   "outputs": [],
   "source": []
  }
 ],
 "metadata": {
  "kernelspec": {
   "display_name": "base",
   "language": "python",
   "name": "python3"
  },
  "language_info": {
   "codemirror_mode": {
    "name": "ipython",
    "version": 3
   },
   "file_extension": ".py",
   "mimetype": "text/x-python",
   "name": "python",
   "nbconvert_exporter": "python",
   "pygments_lexer": "ipython3",
   "version": "3.11.5"
  }
 },
 "nbformat": 4,
 "nbformat_minor": 2
}
